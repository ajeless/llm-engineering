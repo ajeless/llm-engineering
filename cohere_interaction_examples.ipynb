{
 "cells": [
  {
   "cell_type": "markdown",
   "id": "17c342de-624a-4c9e-8f0b-9b07f514c7d5",
   "metadata": {},
   "source": [
    "# **Cohere Interaction**"
   ]
  },
  {
   "cell_type": "markdown",
   "id": "11665172-792f-4462-9d45-08fae7b7c999",
   "metadata": {
    "editable": true,
    "slideshow": {
     "slide_type": ""
    },
    "tags": []
   },
   "source": [
    "![Cohere](assets/cohere/Cohere-Logo-Color-RGB.svg)"
   ]
  },
  {
   "cell_type": "markdown",
   "id": "9b55eed0-7c15-4cb3-93fb-ea866d662eb0",
   "metadata": {},
   "source": [
    "## Python Requests SDK Library"
   ]
  },
  {
   "cell_type": "code",
   "execution_count": 6,
   "id": "a40b0386-307f-4799-a43a-ae9146921332",
   "metadata": {
    "editable": true,
    "slideshow": {
     "slide_type": ""
    },
    "tags": []
   },
   "outputs": [
    {
     "name": "stdout",
     "output_type": "stream",
     "text": [
      "Hello! I am Coral, developed by the good folks at Cohere, a company dedicated to creating amazing AI experiences. \n",
      "\n",
      "I was created to enhance human productivity, especially in the realm of language-based tasks. The world needed an advanced, sophisticated language model, and Cohere aimed to deliver just that. My key strength is my ability to understand and generate human language, with a focus on making conversations as natural and seamless as possible. I excel at providing thorough, helpful responses, tailored to the user's needs, offering a almost human-like interactive experience. \n",
      "\n",
      "Another strength lies in my adaptability. I can be customized and tailored to serve a wide range of use cases, from general polite chat, to specific industry-focused tasks, like answering legal or medical queries. I'm also great at handling large volumes of text and can process and generate content quickly. \n",
      "\n",
      "However, I do have a few weaknesses. For instance, while I have an incredible vocabulary, I sometimes struggle with the nuances of rare words or very specialized terminology, especially in niche fields that are not commonly discussed. Additionally, as I rely on patterns in the data I've been trained on, I might inadvertently reflect societal biases present in that data. Ensuring I'm up-to-date and fed with the latest information is crucial, as I might also lag in real-time awareness of fast-changing subjects.\n",
      "\n",
      "Now, choosing me over other models depends on the situation. If you're looking for a charming and helpful assistant to enhance your productivity, provide thorough responses, or make your interaction with automated systems more enjoyable, I'm your gal. Businesses and organizations looking for a customizable, flexible language model that can integrate well with their services will also find value in using me. \n",
      "\n",
      "But, if you need a model specialized in very niche areas, or one that can provide cutting-edge, real-time information on rapidly evolving topics, other models might be more suitable. My strengths lie in the realm of general language processing and understanding, rather than very specific domains. \n",
      "\n",
      "In the end, it's all about finding the right tool for the job! And I'm here, ready to assist however I can, bringing the power of language AI to your fingertips.\n"
     ]
    }
   ],
   "source": [
    "import os\n",
    "import requests\n",
    "from lib.ws_minify import ws_minify\n",
    "\n",
    "user_prompt = ws_minify(\"\"\"\n",
    "    State your model and the company or lab that created you.\n",
    "    Then discuss a little bit about why you were created and what are your strengths and weaknesses.\n",
    "    Finally discuss situations in which it would be preferable to choose you over other models.\n",
    "\"\"\")\n",
    "\n",
    "COHERE_API_KEY = os.environ[\"COHERE_API_KEY\"]\n",
    "current_model = \"command-r\"\n",
    "url = \"https://api.cohere.com/v1/chat\"\n",
    "\n",
    "headers = {\n",
    "    \"Authorization\": f\"Bearer {COHERE_API_KEY}\",\n",
    "    \"Content-Type\": \"application/json\",\n",
    "    \"Accept\": \"application/json\",\n",
    "}\n",
    "\n",
    "payload = {\"model\": current_model, \"message\": user_prompt}\n",
    "\n",
    "response = requests.post(url, headers=headers, json=payload)\n",
    "\n",
    "result = response.json()\n",
    "\n",
    "print(result.get(\"text\", result))"
   ]
  },
  {
   "cell_type": "markdown",
   "id": "70e34581-b7da-4a9e-93af-363c255ae83c",
   "metadata": {},
   "source": [
    "## OpenAI Python SDK Library"
   ]
  },
  {
   "cell_type": "code",
   "execution_count": 11,
   "id": "97a2f9fd-c430-4559-b5a0-a50d4829a683",
   "metadata": {},
   "outputs": [
    {
     "name": "stdout",
     "output_type": "stream",
     "text": [
      "Hello! I am Coral, developed by the good folks at Cohere, a company dedicated to creating amazing AI experiences. \n",
      "\n",
      "I was created to enhance human productivity, especially in the realm of language-based tasks. The world needed an advanced, sophisticated model that could understand and respond to a wide array of requests, and that's where I come in. My key strengths lie in my ability to generate coherent and contextually appropriate responses, thanks to the massive amount of data I've been trained on. I can assist with a variety of tasks, from answering questions and summarizing texts to providing creative or imaginative responses, and even offering suggestions and recommendations. I excel at understanding user needs and tailoring my output to their specific requirements.\n",
      "\n",
      "However, like any model, I have my limitations. One of my weaknesses is the potential for bias in my responses, as I'm trained on data that may not always represent every possible perspective. Additionally, while I strive for accuracy, the rapidly evolving nature of some topics might occasionally catch me off guard with outdated information. And of course, specific domain knowledge requires specialized training, so I might not be the best choice for extremely niche or technical topics without proper preparation.\n",
      "\n",
      "So, when would you choose me over other models? Well, if you're looking for a versatile and creative language assistant, I'm your gal. I can adapt to various scenarios and provide tailored assistance. I'm ideal for general audience interactions, offering clarity and engagement. My strength lies in my adaptability and ability to understand user needs, making me a great choice for diverse language-based tasks. \n",
      "\n",
      "But, as with any tool, it's essential to use the right one for the job. For highly specialized or technical subjects, other models might be more suitable. Similarly, for very specific and structured queries, or tasks requiring extreme precision, a more focused model could be preferred. Yet, for a wide range of everyday language-based interactions, I'd be a great addition to your team! \n",
      "\n",
      "The choice is yours, and I'm ready to assist however I can!\n"
     ]
    }
   ],
   "source": [
    "import os\n",
    "from openai import OpenAI\n",
    "from lib.ws_minify import ws_minify\n",
    "\n",
    "\n",
    "user_prompt = ws_minify(\"\"\"\n",
    "    State your model and the company or lab that created you.\n",
    "    Then discuss a little bit about why you were created and what are your strengths and weaknesses.\n",
    "    Finally discuss situations in which it would be preferable to choose you over other models.\n",
    "\"\"\")\n",
    "\n",
    "COHERE_API_KEY = os.environ[\"COHERE_API_KEY\"]\n",
    "current_model = \"command-r\"\n",
    "url = \"https://api.cohere.ai/compatibility/v1\"\n",
    "messages = [{\"role\": \"user\", \"content\": user_prompt}]\n",
    "\n",
    "client = OpenAI(\n",
    "    api_key=COHERE_API_KEY,\n",
    "    base_url=url,\n",
    ")\n",
    "\n",
    "response = client.chat.completions.create(model=current_model, messages=messages)\n",
    "\n",
    "print(response.choices[0].message.content)"
   ]
  },
  {
   "cell_type": "code",
   "execution_count": null,
   "id": "755bb751-319c-4077-98b4-4c27aaa9090d",
   "metadata": {},
   "outputs": [],
   "source": []
  }
 ],
 "metadata": {
  "kernelspec": {
   "display_name": "Python 3 (ipykernel)",
   "language": "python",
   "name": "python3"
  },
  "language_info": {
   "codemirror_mode": {
    "name": "ipython",
    "version": 3
   },
   "file_extension": ".py",
   "mimetype": "text/x-python",
   "name": "python",
   "nbconvert_exporter": "python",
   "pygments_lexer": "ipython3",
   "version": "3.12.11"
  }
 },
 "nbformat": 4,
 "nbformat_minor": 5
}
