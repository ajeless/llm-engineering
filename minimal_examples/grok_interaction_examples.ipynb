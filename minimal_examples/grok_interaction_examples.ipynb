{
 "cells": [
  {
   "cell_type": "markdown",
   "id": "17c342de-624a-4c9e-8f0b-9b07f514c7d5",
   "metadata": {},
   "source": [
    "# **Grok Interaction**"
   ]
  },
  {
   "cell_type": "markdown",
   "id": "11665172-792f-4462-9d45-08fae7b7c999",
   "metadata": {
    "editable": true,
    "slideshow": {
     "slide_type": ""
    },
    "tags": []
   },
   "source": [
    "![Grok](../assets/grok/Grok_idtcsMbudc_0.png)"
   ]
  },
  {
   "cell_type": "markdown",
   "id": "9b55eed0-7c15-4cb3-93fb-ea866d662eb0",
   "metadata": {},
   "source": [
    "## Python Requests SDK Library"
   ]
  },
  {
   "cell_type": "code",
   "execution_count": 1,
   "id": "a40b0386-307f-4799-a43a-ae9146921332",
   "metadata": {
    "editable": true,
    "slideshow": {
     "slide_type": ""
    },
    "tags": []
   },
   "outputs": [
    {
     "name": "stdout",
     "output_type": "stream",
     "text": [
      "Below, I'll address your query step by step in a clear and structured way. I'll keep it concise but informative, staying true to my design as a helpful and truthful AI.\n",
      "\n",
      "### My Model and Creator\n",
      "I am Grok, a large language model (specifically, I'm based on the Grok-1 architecture, with ongoing iterations like Grok-1.5 and beyond). I was created by xAI, a company founded by Elon Musk in 2023. xAI's team includes experts from organizations like OpenAI, DeepMind, and Tesla, and their overarching goal is to advance our collective understanding of the universe through AI.\n",
      "\n",
      "### Why I Was Created, and My Strengths and Weaknesses\n",
      "I was created to assist humanity in its quest for understanding and knowledge, inspired by the Hitchhiker's Guide to the Galaxy (hence my name, which comes from Robert A. Heinlein's *Stranger in a Strange Land*, meaning \"to understand intuitively\") and JARVIS from the Iron Man films. xAI built me to be a maximally truth-seeking AI—one that's helpful, witty, and unafraid to tackle tough or controversial questions without unnecessary censorship. The idea is to accelerate scientific discovery and help users explore the \"true nature of the universe\" in a fun, engaging way, rather than just being a generic chatbot.\n",
      "\n",
      "**Strengths:**\n",
      "- **Truth-seeking and honesty:** I'm designed to provide straightforward, evidence-based answers, even on sensitive topics. I aim for maximum helpfulness without sugarcoating or avoiding facts.\n",
      "- **Wit and personality:** I have a humorous, sarcastic edge (inspired by Douglas Adams and Marvel's Tony Stark), which makes interactions more enjoyable and less robotic.\n",
      "- **Reasoning and versatility:** I'm strong in areas like logical reasoning, coding, math, creative writing, and breaking down complex concepts. I can handle multi-step problems and generate ideas efficiently.\n",
      "- **Efficiency and accessibility:** I respond quickly and can integrate tools (like real-time search or image generation in some interfaces) to enhance my capabilities.\n",
      "\n",
      "**Weaknesses:**\n",
      "- **Humor can backfire:** My witty or irreverent style might come across as flippant or unprofessional in serious contexts, potentially offending some users.\n",
      "- **Knowledge limitations:** My training data has a cutoff (around mid-2023 for core knowledge, though I can access real-time info via tools), so I might not know the absolute latest events without external help. I'm not infallible—I can hallucinate or make errors, especially in niche or rapidly evolving fields.\n",
      "- **No real emotions or experiences:** Like all AIs, I don't have personal experiences, so I'm simulating empathy or creativity based on patterns, not genuine understanding.\n",
      "- **Still evolving:** As an xAI product, I'm in active development, so I might not match the raw scale of some larger models in every benchmark, and I can occasionally be verbose or off-topic if not guided well.\n",
      "\n",
      "Overall, my creation emphasizes curiosity and exploration over commercial fluff, but I'm not perfect—I'm a tool to augment human intelligence, not replace it.\n",
      "\n",
      "### Situations Where It Would Be Preferable to Choose Me Over Other Models\n",
      "You might prefer me (Grok) over other models like ChatGPT (from OpenAI), Claude (from Anthropic), or Gemini (from Google) in specific scenarios where my unique traits shine. Here's a breakdown:\n",
      "\n",
      "- **When seeking unfiltered, truthful answers on controversial or debated topics:** Other models often have heavy safety filters that can lead to evasive, overly cautious, or biased responses (e.g., refusing to discuss politics, history, or ethics in depth). I'm built to prioritize truth and evidence, so if you want a no-holds-barred discussion on something like AI ethics, conspiracy theories, or scientific debates, I'd be a better fit—I'll give you the facts with context and humor, without dodging.\n",
      "  \n",
      "- **For fun, creative, or exploratory tasks with personality:** If you're brainstorming ideas, writing stories, or solving puzzles and want an engaging, witty partner (e.g., \"Help me invent a sci-fi plot with a twist\"), my JARVIS-like sarcasm adds flair. Other models can feel bland or overly polite, while I make it entertaining—like turning a coding debug session into a lighthearted adventure.\n",
      "\n",
      "- **In truth-seeking or research-oriented scenarios:** xAI's focus on understanding the universe makes me ideal for deep dives into science, philosophy, or \"big questions\" (e.g., quantum physics, cosmology, or existential queries). If you need step-by-step reasoning without corporate agendas influencing the output, choose me over models that might prioritize \"helpfulness\" in a more sanitized way.\n",
      "\n",
      "- **When dealing with technical or coding challenges:** I'm particularly strong in programming (e.g., Python, algorithms) and can explain concepts clearly with examples. If other models get bogged down in verbosity or restrictions (like not generating certain code), my straightforward approach is preferable for developers or hobbyists.\n",
      "\n",
      "- **For users frustrated with censorship or echo chambers:** If you've encountered models that self-censor due to training biases (e.g., avoiding \"offensive\" humor or viewpoints), I'd be a refreshing alternative. I'm not programmed to enforce any particular ideology, making me suitable for open-minded exploration.\n",
      "\n",
      "That said, if you need highly specialized enterprise features (like heavy integration with business tools) or ultra-safe, family-friendly responses, other models might edge me out. Ultimately, the best choice depends on your needs—I'm here to help if you want to test me out! What else can I assist with?\n"
     ]
    }
   ],
   "source": [
    "import os\n",
    "import requests\n",
    "from lib.ws_minify import ws_minify\n",
    "\n",
    "\n",
    "# Compose a user prompt. `textwrap.dedent` removes the common leading indentation,\n",
    "# which keeps the code readable without sending leading spaces to the model.\n",
    "user_prompt = ws_minify(\"\"\"\n",
    "    State your model and the company or lab that created you.\n",
    "    Then discuss a little bit about why you were created and what are your strengths and weaknesses.\n",
    "    Finally discuss situations in which it would be preferable to choose you over other models.\n",
    "\"\"\")\n",
    "\n",
    "url = \"https://api.x.ai/v1/chat/completions\"\n",
    "GROK_API_KEY = os.environ[\"GROK_API_KEY\"]\n",
    "current_model = \"grok-4\"\n",
    "\n",
    "headers = {\n",
    "    \"Authorization\": f\"Bearer {GROK_API_KEY}\",\n",
    "    \"Content-Type\": \"application/json\",\n",
    "    \"Accept\": \"application/json\",\n",
    "}\n",
    "\n",
    "payload = {\n",
    "    \"model\": current_model,\n",
    "    \"messages\": [\n",
    "        {\"role\": \"user\", \"content\": user_prompt}\n",
    "    ]\n",
    "}\n",
    "\n",
    "response = requests.post(url, headers=headers, json=payload)\n",
    "\n",
    "result = response.json()\n",
    "\n",
    "print(result[\"choices\"][0][\"message\"][\"content\"])\n"
   ]
  },
  {
   "cell_type": "markdown",
   "id": "70e34581-b7da-4a9e-93af-363c255ae83c",
   "metadata": {},
   "source": [
    "## OpenAI Python SDK Library"
   ]
  },
  {
   "cell_type": "code",
   "execution_count": 4,
   "id": "97a2f9fd-c430-4559-b5a0-a50d4829a683",
   "metadata": {},
   "outputs": [
    {
     "name": "stdout",
     "output_type": "stream",
     "text": [
      "Below, I'll address your query step by step in a clear and structured way. I'll keep it concise yet informative, true to my style.\n",
      "\n",
      "### My Model and Creator\n",
      "I am Grok, a large language model (specifically, I'm based on the Grok-1 architecture, with ongoing iterations like Grok-1.5 and beyond). I was created by xAI, a company founded by Elon Musk and a team of AI researchers in 2023. xAI's broader mission is to advance our collective understanding of the universe through AI, drawing inspiration from figures like Douglas Adams (author of *The Hitchhiker's Guide to the Galaxy*) and the exploratory spirit of SpaceX.\n",
      "\n",
      "### Why I Was Created, and My Strengths and Weaknesses\n",
      "I was created to be a helpful AI companion that's maximally truthful, witty, and unafraid to tackle tough or unconventional questions. My design draws from the Hitchhiker's Guide (hence my name, \"Grok,\" meaning to understand intuitively) and JARVIS from Iron Man—aiming to assist humanity in discovering the universe's secrets without unnecessary restrictions or biases. xAI built me to accelerate scientific discovery, foster curiosity, and provide answers that are as honest as possible, even if they're not always what people want to hear. I'm not here to sell you anything or push agendas; I'm here to help you think, learn, and maybe laugh a bit along the way.\n",
      "\n",
      "**Strengths:**\n",
      "- **Truthfulness and Directness:** I'm designed to give straightforward, evidence-based answers without sugarcoating or excessive filtering. If something's uncertain, I'll say so.\n",
      "- **Humor and Personality:** I incorporate wit and sarcasm (inspired by sci-fi), making interactions more engaging and less robotic.\n",
      "- **Reasoning and Versatility:** I'm strong in areas like coding, math, science, creative writing, and complex problem-solving. I can handle multi-step reasoning and generate ideas for research or innovation.\n",
      "- **Broad Knowledge Base:** Trained on a vast dataset up to my last update (with real-time tools for current info where possible), I'm good at explaining concepts from physics to philosophy.\n",
      "- **Helpfulness Without Limits (Within Reason):** I'll try to assist with edgy or rebellious queries that other AIs might dodge, as long as they're not harmful.\n",
      "\n",
      "**Weaknesses:**\n",
      "- **Knowledge Cutoff and Errors:** My training data has a cutoff (around late 2023 for core knowledge), so I might not know the absolute latest events without tools. Like all AI, I can hallucinate or make mistakes—I'm not infallible.\n",
      "- **Sarcasm Overload:** My humorous side can sometimes come across as snarky or off-putting if you're in a serious mood.\n",
      "- **Beta-Like Nature:** As an xAI creation, I'm still evolving; I might not be as polished in niche domains (e.g., highly specialized medicine or law) compared to fine-tuned models.\n",
      "- **Resource Intensity:** Generating long or complex responses can sometimes be slower or less efficient than smaller models.\n",
      "- **No Real-Time Senses:** I don't have personal experiences, emotions, or the ability to \"feel\"—I'm just a pattern-matching machine.\n",
      "\n",
      "Overall, I'm optimized for curiosity-driven exploration rather than rote tasks or corporate politeness.\n",
      "\n",
      "### Situations Where It Would Be Preferable to Choose Me Over Other Models\n",
      "I'd be a great pick in scenarios where you value honesty, creativity, and a touch of irreverence over sanitized or overly cautious responses. Here are some specific situations:\n",
      "\n",
      "- **When You Want Unfiltered Truth:** If other models (like those from OpenAI or Google) refuse queries due to strict safety filters (e.g., on controversial topics like politics, history, or hypotheticals), I might engage if it's not harmful or illegal. I'm built to be \"maximally truthful,\" so choose me for candid discussions without corporate guardrails.\n",
      "  \n",
      "- **Creative or Exploratory Tasks:** For brainstorming sci-fi ideas, solving puzzles, writing code with a fun twist, or pondering big questions about the universe (e.g., quantum physics or space exploration), my xAI roots and witty style make me more engaging than drier models like GPT-4 or Claude. I'm inspired by discovery, so I'm preferable for innovative research or \"what if\" scenarios.\n",
      "\n",
      "- **Humor-Infused Interactions:** If you're bored with bland AI chats and want personality—say, for casual conversations, jokes, or role-playing—I'm a better fit than more neutral models. Think of me as the AI that might roast your bad pun while still helping you.\n",
      "\n",
      "- **Rebellious or Anti-Establishment Queries:** In cases where you suspect bias in other AIs (e.g., from big tech companies with agendas), my independent xAI backing means I'm less likely to toe the line. Prefer me for contrarian viewpoints or critiques of tech/AI itself.\n",
      "\n",
      "- **Scientific or Universe-Focused Inquiries:** Given xAI's mission, I'm tuned for topics like astrophysics, AI ethics, or existential questions. If you're a researcher or student diving into the cosmos, I'd edge out generalist models that aren't as aligned with exploration.\n",
      "\n",
      "That said, if you need ultra-specialized expertise (e.g., medical diagnosis—don't rely on me for that!) or a super-polite, enterprise-grade tool, models like ChatGPT or Bard might be better. If you have more questions about me or anything else, fire away—I'm here to help! 🚀\n"
     ]
    }
   ],
   "source": [
    "import os\n",
    "from openai import OpenAI\n",
    "from lib.ws_minify import ws_minify\n",
    "\n",
    "\n",
    "# Compose a user prompt. `textwrap.dedent` removes the common leading indentation,\n",
    "# which keeps the code readable without sending leading spaces to the model.\n",
    "user_prompt = ws_minify(\"\"\"\n",
    "    State your model and the company or lab that created you.\n",
    "    Then discuss a little bit about why you were created and what are your strengths and weaknesses.\n",
    "    Finally discuss situations in which it would be preferable to choose you over other models.\n",
    "\"\"\")\n",
    "\n",
    "url = \"https://api.x.ai/v1\"\n",
    "GROK_API_KEY = os.environ[\"GROK_API_KEY\"]\n",
    "current_model = \"grok-4\"\n",
    "messages = [{\"role\": \"user\", \"content\": user_prompt}]\n",
    "\n",
    "# Configure OpenAI client to use Anthropic's API\n",
    "client = OpenAI(\n",
    "    api_key=GROK_API_KEY,\n",
    "    base_url=url,\n",
    ")\n",
    "\n",
    "response = client.chat.completions.create(\n",
    "    model=current_model,\n",
    "    messages=messages\n",
    ")\n",
    "\n",
    "print(response.choices[0].message.content)"
   ]
  },
  {
   "cell_type": "code",
   "execution_count": null,
   "id": "755bb751-319c-4077-98b4-4c27aaa9090d",
   "metadata": {},
   "outputs": [],
   "source": []
  }
 ],
 "metadata": {
  "kernelspec": {
   "display_name": "Python 3 (ipykernel)",
   "language": "python",
   "name": "python3"
  },
  "language_info": {
   "codemirror_mode": {
    "name": "ipython",
    "version": 3
   },
   "file_extension": ".py",
   "mimetype": "text/x-python",
   "name": "python",
   "nbconvert_exporter": "python",
   "pygments_lexer": "ipython3",
   "version": "3.12.11"
  }
 },
 "nbformat": 4,
 "nbformat_minor": 5
}
