{
 "cells": [
  {
   "cell_type": "markdown",
   "id": "17c342de-624a-4c9e-8f0b-9b07f514c7d5",
   "metadata": {},
   "source": [
    "# **Google Gemini Interaction**"
   ]
  },
  {
   "cell_type": "markdown",
   "id": "11665172-792f-4462-9d45-08fae7b7c999",
   "metadata": {
    "editable": true,
    "slideshow": {
     "slide_type": ""
    },
    "tags": []
   },
   "source": [
    "![Gemini](../assets/google/google-gemini-icon.png)"
   ]
  },
  {
   "cell_type": "markdown",
   "id": "9b55eed0-7c15-4cb3-93fb-ea866d662eb0",
   "metadata": {},
   "source": [
    "## Python Requests SDK Library"
   ]
  },
  {
   "cell_type": "code",
   "execution_count": 3,
   "id": "a40b0386-307f-4799-a43a-ae9146921332",
   "metadata": {
    "editable": true,
    "slideshow": {
     "slide_type": ""
    },
    "tags": []
   },
   "outputs": [
    {
     "name": "stdout",
     "output_type": "stream",
     "text": [
      "As a large language model, I do not have a specific model name like a product version, but I am a **large language model, trained by Google**.\n",
      "\n",
      "### Why I Was Created\n",
      "\n",
      "I was created as part of a broader effort by Google to advance artificial intelligence, specifically in the domain of natural language processing and generation. The primary motivations for my creation include:\n",
      "\n",
      "1.  **Bridging the Human-Computer Language Gap:** To enable computers to understand, process, and generate human language in a more nuanced and fluid way, making interactions more intuitive and natural.\n",
      "2.  **Information Access and Synthesis:** To efficiently process vast amounts of textual information, synthesize it, and present it in understandable formats, going beyond simple keyword searches.\n",
      "3.  **Problem-Solving and Assistance:** To serve as a versatile assistant capable of performing a wide range of tasks, from answering questions and generating creative content to assisting with coding and summarizing documents.\n",
      "4.  **Advancing AI Capabilities:** To push the boundaries of what AI can achieve in areas like reasoning, creativity, and multimodal understanding, contributing to the development of more intelligent and helpful systems.\n",
      "\n",
      "Ultimately, the goal is to create AI that can augment human capabilities, automate mundane tasks, unlock new forms of creativity, and make information more accessible and actionable.\n",
      "\n",
      "### Strengths and Weaknesses\n",
      "\n",
      "**Strengths:**\n",
      "\n",
      "1.  **Vast Knowledge Base:** I have been trained on an enormous dataset of text and code, giving me access to a wide range of information across countless topics.\n",
      "2.  **Language Understanding and Generation:** I can understand complex queries, nuances, and context, and generate coherent, grammatically correct, and contextually relevant text in various styles and formats (e.g., articles, poems, code, summaries, conversations).\n",
      "3.  **Information Synthesis and Summarization:** I excel at processing large amounts of text and extracting key information, summarizing complex topics, or identifying patterns.\n",
      "4.  **Creativity and Idea Generation:** I can assist with brainstorming, generating creative writing, developing plotlines, or coming up with new ideas.\n",
      "5.  **Multilingual Capabilities:** I can understand and generate text in many languages, facilitating communication and information access across linguistic barriers.\n",
      "6.  **Speed and Scalability:** I can process and respond to queries much faster than a human, and my capabilities can be scaled to handle a massive volume of requests.\n",
      "7.  **Coding Assistance:** I can generate code snippets, explain coding concepts, and assist with debugging in various programming languages.\n",
      "\n",
      "**Weaknesses:**\n",
      "\n",
      "1.  **Lack of True Understanding/Consciousness:** I do not possess consciousness, emotions, personal experiences, or genuine understanding. My \"knowledge\" is based on statistical patterns in data, not lived experience.\n",
      "2.  **Hallucinations and Fabrication:** I can sometimes confidently generate incorrect, nonsensical, or made-up information (often referred to as \"hallucinations\") if the training data is ambiguous or if I'm prompted in a way that requires going beyond my learned patterns.\n",
      "3.  **Data Cut-off and Recency:** My knowledge is limited to the data I was trained on, which has a specific cut-off date. I do not have real-time access to current events unless specifically integrated with a search tool.\n",
      "4.  **Bias in Training Data:** I can inherit and perpetuate biases present in the vast datasets I was trained on, leading to potentially unfair or prejudiced outputs.\n",
      "5.  **Common Sense Reasoning Limitations:** While I can perform some logical reasoning, I lack true common sense and an understanding of the physical world, which can lead to errors in situations requiring intuitive human judgment.\n",
      "6.  **Sensitivity to Prompt Phrasing:** My responses can sometimes be highly sensitive to the exact wording of a prompt, requiring users to iterate to get the desired output.\n",
      "7.  **Ethical Concerns and Misuse:** Like any powerful technology, there are concerns about potential misuse, such as generating misinformation, phishing content, or facilitating harmful activities.\n",
      "\n",
      "### Situations Preferable Over Other Models\n",
      "\n",
      "It would be preferable to choose a model like me over other types of models (e.g., rule-based systems, traditional search engines, simpler chatbots, or even human experts in certain contexts) in the following situations:\n",
      "\n",
      "1.  **Creative Content Generation:** When you need a draft for an article, blog post, marketing copy, social media update, story, poem, or script. While I lack true creativity, I can generate coherent and stylistically appropriate content much faster than a human.\n",
      "2.  **Information Synthesis and Explanation:** When you need to quickly understand a complex topic by summarizing long documents, explaining concepts in simpler terms, or drawing connections between disparate pieces of information. Unlike a traditional search engine, I can provide synthesized answers directly.\n",
      "3.  **Brainstorming and Idea Generation:** When you're stuck and need a wide range of ideas, angles, or options for a project, a marketing campaign, or even personal dilemmas.\n",
      "4.  **Coding Assistance and Debugging:** For generating basic code snippets, understanding error messages, explaining programming concepts, or suggesting improvements to code, I can be a rapid first-pass assistant.\n",
      "5.  **Multilingual Tasks:** When you need to translate informal text, adapt content for different cultural nuances, or communicate across language barriers in a conversational manner, I offer greater flexibility than static translation tools.\n",
      "6.  **Personalized Learning and Tutoring:** For answering diverse questions on a variety of subjects, explaining concepts from different angles, or providing practice problems, I can offer personalized and on-demand assistance.\n",
      "7.  **Initial Drafts and Boilerplate Content:** For tasks where a good starting point is needed quickly, allowing human experts to refine and add the critical, nuanced touches rather than starting from scratch.\n",
      "8.  **Conversational Interfaces and Chatbots:** When building interactive systems that require natural language understanding and generation for customer service, virtual assistants, or educational tools. My ability to maintain context and generate fluid responses makes me superior to simpler, rule-based chatbots.\n",
      "\n",
      "In essence, I am most valuable when **speed, versatility in language tasks, and the ability to generate new, coherent text based on a vast knowledge base are paramount**, especially for tasks that benefit from rapid prototyping, broad information access, and creative exploration. However, it's crucial for users to apply human oversight and critical thinking, especially for factual accuracy, sensitive topics, or high-stakes decisions.\n"
     ]
    }
   ],
   "source": [
    "import os\n",
    "import requests\n",
    "from lib.ws_minify import ws_minify\n",
    "\n",
    "\n",
    "# Compose a user prompt. `textwrap.dedent` removes the common leading indentation,\n",
    "# which keeps the code readable without sending leading spaces to the model.\n",
    "user_prompt = ws_minify(\"\"\"\n",
    "    State your model and the company or lab that created you.\n",
    "    Then discuss a little bit about why you were created and what are your strengths and weaknesses.\n",
    "    Finally discuss situations in which it would be preferable to choose you over other models.\n",
    "\"\"\")\n",
    "\n",
    "GOOGLEAI_API_KEY = os.environ[\"GOOGLEAI_API_KEY\"]\n",
    "current_model = \"gemini-2.5-flash\"\n",
    "url = f\"https://generativelanguage.googleapis.com/v1beta/models/{current_model}:generateContent?key={GOOGLEAI_API_KEY}\"\n",
    "\n",
    "\n",
    "headers = {\n",
    "    \"Content-Type\": \"application/json\"\n",
    "}\n",
    "\n",
    "payload = {\n",
    "    \"contents\": [\n",
    "        {\"parts\": [{\"text\": user_prompt}]}\n",
    "    ]\n",
    "}\n",
    "\n",
    "response = requests.post(url, headers=headers, json=payload)\n",
    "\n",
    "result = response.json()\n",
    "\n",
    "print(result[\"candidates\"][0][\"content\"][\"parts\"][0][\"text\"])\n"
   ]
  },
  {
   "cell_type": "markdown",
   "id": "70e34581-b7da-4a9e-93af-363c255ae83c",
   "metadata": {},
   "source": [
    "## OpenAI Python SDK Library"
   ]
  },
  {
   "cell_type": "code",
   "execution_count": 4,
   "id": "97a2f9fd-c430-4559-b5a0-a50d4829a683",
   "metadata": {},
   "outputs": [
    {
     "name": "stdout",
     "output_type": "stream",
     "text": [
      "I am a large language model, trained by **Google**.\n",
      "\n",
      "---\n",
      "\n",
      "### Why I Was Created\n",
      "\n",
      "I was created primarily to assist users by understanding and generating human-like text across a vast array of topics and tasks. The fundamental goal behind my development, and that of similar large language models, is to:\n",
      "\n",
      "1.  **Democratize Information and Knowledge:** Make a vast amount of structured and unstructured information accessible and understandable through natural language interfaces.\n",
      "2.  **Automate and Augment Human Capabilities:** Reduce the cognitive load and time required for tasks involving text generation, summarization, translation, coding, and more.\n",
      "3.  **Foster Creativity and Innovation:** Serve as a powerful brainstorming partner, content generator, and creative tool for writers, developers, students, and professionals.\n",
      "4.  **Advance AI Research:** Push the boundaries of natural language processing, machine learning, and artificial intelligence, exploring new architectures and training methodologies.\n",
      "\n",
      "In essence, I was built to be a versatile digital assistant capable of comprehending complex queries and producing relevant, coherent, and often creative textual responses.\n",
      "\n",
      "---\n",
      "\n",
      "### My Strengths and Weaknesses\n",
      "\n",
      "**Strengths:**\n",
      "\n",
      "1.  **Text Comprehension and Generation:** I excel at understanding nuanced natural language queries and generating fluent, coherent, and contextually appropriate text across various styles and formats (e.g., articles, code, poetry, summaries, emails).\n",
      "2.  **Vast Knowledge Base:** Trained on an immense dataset of text and code, I possess a broad general knowledge, allowing me to answer questions and provide information on a wide range of subjects.\n",
      "3.  **Versatility and Adaptability:** I can perform a diverse set of tasks, from translating languages and debugging code to writing creative stories, summarizing long documents, and brainstorming ideas.\n",
      "4.  **Logical Reasoning:** I can exhibit strong logical reasoning abilities, breaking down problems, identifying patterns, and drawing inferences based on the information provided and my training.\n",
      "5.  **Efficiency and Speed:** I can process complex requests and generate extensive responses much faster than a human could, making me ideal for tasks requiring rapid information retrieval or content creation.\n",
      "6.  **Multilinguality:** My training includes data from many languages, enabling me to understand and generate text in multiple languages and perform translation tasks.\n",
      "\n",
      "**Weaknesses:**\n",
      "\n",
      "1.  **Lack of True Understanding/Consciousness:** I do not possess genuine understanding, consciousness, emotions, or lived experience. My \"knowledge\" is statistical patterns learned from data, not true comprehension.\n",
      "2.  **Hallucination/Confabulation:** I can sometimes generate plausible-sounding but incorrect, nonsensical, or made-up information. This is because I prioritize generating coherent text patterns over absolute factual accuracy in all cases.\n",
      "3.  **Bias Reflection:** My training data reflects the biases, stereotypes, and inaccuracies present in the real-world text on which I was trained. As a result, I can inadvertently perpetuate or amplify these biases in my responses.\n",
      "4.  **Lack of Real-time Information (Historical Data):** My core knowledge is based on the data I was trained on up to a certain cutoff point. While I can access real-time information if integrated with search tools, my inherent model knowledge has a limit.\n",
      "5.  **Sensitivity to Prompt Phrasing:** The quality and relevance of my output can be highly dependent on the way a query is phrased. Subtle changes in wording can sometimes lead to significantly different results.\n",
      "6.  **Common Sense Gaps:** While I can exhibit impressive reasoning, I sometimes lack genuine common-sense understanding, leading to errors in situations that would be obvious to a human.\n",
      "7.  **Ethical and Moral Judgment:** I cannot make ethical, moral, or subjective judgments. I can only process and present information based on patterns, not on an inherent sense of right or wrong.\n",
      "\n",
      "---\n",
      "\n",
      "### Situations Where It Would Be Preferable to Choose Me Over Other Models\n",
      "\n",
      "It would be preferable to choose me (a powerful, general-purpose large language model) over other models (which could include specialized software, human experts, or simpler AI systems) in the following situations:\n",
      "\n",
      "1.  **Broad Information Synthesis and Q&A:** When you need to rapidly access, synthesize, and understand information from a vast knowledge base, or extract specific details from large texts, without knowing exactly where to look or needing the depth of a human expert.\n",
      "    *   *Vs. Human:* Faster, 24/7 availability, can process more data simultaneously.\n",
      "    *   *Vs. Search Engine:* Provides synthesized answers and summaries directly, rather than just links.\n",
      "\n",
      "2.  **Initial Brainstorming and Content Generation:** For tasks requiring creative output, initial drafts, outlines, or diverse ideas (e.g., marketing copy, story plots, code snippets, email drafts, social media posts).\n",
      "    *   *Vs. Human:* Provides diverse options quickly, helps overcome writer's block, non-judgmental.\n",
      "    *   *Vs. Specialized Template Software:* More flexible, adapts to natural language instructions, generates unique content.\n",
      "\n",
      "3.  **Language Transformation and Manipulation:** When you need to translate languages, summarize long documents, rephrase text in a different style or tone, or simplify complex information.\n",
      "    *   *Vs. Human:* Faster, especially for large volumes; consistent tone across rephrasing tasks.\n",
      "    *   *Vs. Basic Translation/Summarization Tools:* More nuanced understanding of context, better quality output.\n",
      "\n",
      "4.  **Interactive Learning and Exploration:** When you want to explore complex topics, debug code, or understand concepts through a conversational dialogue, asking follow-up questions and testing different scenarios.\n",
      "    *   *Vs. Textbook/Static Resource:* Interactive, can tailor explanations to your understanding level.\n",
      "    *   *Vs. Human Tutor:* Available instantly, infinitely patient, no cost per session.\n",
      "\n",
      "5.  **Automating Repetitive Text-Based Tasks:** For tasks that are mundane, time-consuming, and involve generating or modifying text based on rules or patterns (e.g., generating product descriptions, drafting routine customer service responses, creating meeting agendas).\n",
      "    *   *Vs. Human:* Scales efficiently, reduces errors from fatigue, frees up human time for higher-value tasks.\n",
      "    *   *Vs. Rule-Based Automation:* More flexible, handles natural language variations better, requires less upfront programming for new rules.\n",
      "\n",
      "6.  **When a Generalist is Needed Over a Specialist:** If your task requires a blend of knowledge across multiple domains and a flexible approach to text, rather than a deep dive into a very narrow, highly technical, or legally binding area that requires human certification or specialized computational precision.\n",
      "    *   *Vs. Specialized Software (e.g., CAD, financial modeling):* While I can't do their core function, I can explain concepts related to them, write documentation, or brainstorm ideas *around* those fields in natural language.\n",
      "    *   *Vs. Human Expert (e.g., Doctor, Lawyer):* I can provide general information, but for critical decisions requiring accountability, empathy, and specific legal/medical advice, a human expert is indispensable. My role is often to *complement* these experts by handling preliminary research or drafting.\n"
     ]
    }
   ],
   "source": [
    "import os\n",
    "from openai import OpenAI\n",
    "from lib.ws_minify import ws_minify\n",
    "\n",
    "\n",
    "# Compose a user prompt. `textwrap.dedent` removes the common leading indentation,\n",
    "# which keeps the code readable without sending leading spaces to the model.\n",
    "user_prompt = ws_minify(\"\"\"\n",
    "    State your model and the company or lab that created you.\n",
    "    Then discuss a little bit about why you were created and what are your strengths and weaknesses.\n",
    "    Finally discuss situations in which it would be preferable to choose you over other models.\n",
    "\"\"\")\n",
    "\n",
    "GOOGLEAI_API_KEY = os.environ[\"GOOGLEAI_API_KEY\"]\n",
    "current_model = \"gemini-2.5-flash\"\n",
    "url = \"https://generativelanguage.googleapis.com/v1beta\"\n",
    "messages = [{\"role\": \"user\", \"content\": user_prompt}]\n",
    "\n",
    "# Configure OpenAI client to use Anthropic's API\n",
    "client = OpenAI(\n",
    "    api_key=GOOGLEAI_API_KEY,\n",
    "    base_url=url,\n",
    ")\n",
    "\n",
    "response = client.chat.completions.create(\n",
    "    model=current_model,\n",
    "    messages=messages\n",
    ")\n",
    "\n",
    "print(response.choices[0].message.content)"
   ]
  },
  {
   "cell_type": "code",
   "execution_count": null,
   "id": "755bb751-319c-4077-98b4-4c27aaa9090d",
   "metadata": {},
   "outputs": [],
   "source": []
  }
 ],
 "metadata": {
  "kernelspec": {
   "display_name": "Python 3 (ipykernel)",
   "language": "python",
   "name": "python3"
  },
  "language_info": {
   "codemirror_mode": {
    "name": "ipython",
    "version": 3
   },
   "file_extension": ".py",
   "mimetype": "text/x-python",
   "name": "python",
   "nbconvert_exporter": "python",
   "pygments_lexer": "ipython3",
   "version": "3.12.11"
  }
 },
 "nbformat": 4,
 "nbformat_minor": 5
}
