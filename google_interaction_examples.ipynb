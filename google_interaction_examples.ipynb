{
 "cells": [
  {
   "cell_type": "markdown",
   "id": "17c342de-624a-4c9e-8f0b-9b07f514c7d5",
   "metadata": {},
   "source": [
    "# **Google Gemini Interaction**"
   ]
  },
  {
   "cell_type": "markdown",
   "id": "11665172-792f-4462-9d45-08fae7b7c999",
   "metadata": {
    "editable": true,
    "slideshow": {
     "slide_type": ""
    },
    "tags": []
   },
   "source": [
    "![Gemini](assets/google/google-gemini-icon.png)"
   ]
  },
  {
   "cell_type": "markdown",
   "id": "9b55eed0-7c15-4cb3-93fb-ea866d662eb0",
   "metadata": {},
   "source": [
    "## Python Requests SDK Library"
   ]
  },
  {
   "cell_type": "code",
   "execution_count": 3,
   "id": "a40b0386-307f-4799-a43a-ae9146921332",
   "metadata": {
    "editable": true,
    "slideshow": {
     "slide_type": ""
    },
    "tags": []
   },
   "outputs": [
    {
     "name": "stdout",
     "output_type": "stream",
     "text": [
      "I am a large language model, trained by Google.\n",
      "\n",
      "### Why I Was Created\n",
      "\n",
      "I was created as part of a broader effort to advance artificial intelligence and develop systems that can understand, process, and generate human-like language. The core purpose behind my creation was to:\n",
      "\n",
      "1.  **Organize and Access Information:** To make the vast amount of information available on the internet more accessible and understandable, allowing users to get summarized, relevant answers rather than just links.\n",
      "2.  **Facilitate Communication:** To enable more natural and intuitive human-computer interaction, allowing users to converse with a system in plain language.\n",
      "3.  **Augment Human Capabilities:** To assist users with a wide range of tasks, from brainstorming and content creation to coding and problem-solving, thereby increasing efficiency and productivity.\n",
      "4.  **Advance AI Research:** To serve as a platform for developing more sophisticated AI models, pushing the boundaries of what machine learning can achieve in natural language processing and understanding.\n",
      "\n",
      "In essence, I was built to be a versatile informational and creative assistant, capable of understanding complex queries and generating coherent, contextually relevant, and often creative responses.\n",
      "\n",
      "### Strengths and Weaknesses\n",
      "\n",
      "**Strengths:**\n",
      "\n",
      "1.  **Vast Knowledge Base:** I have been trained on an enormous dataset of text and code, giving me access to a comprehensive range of information across countless topics.\n",
      "2.  **Language Fluency and Coherence:** I can generate human-like text that is grammatically correct, coherent, and often stylistically appropriate for the given context.\n",
      "3.  **Versatility:** I can perform a wide variety of tasks, including answering questions, summarizing texts, writing different creative content formats, translating languages, writing code, and assisting with brainstorming.\n",
      "4.  **Information Synthesis:** I can quickly process large amounts of information and synthesize it into concise, understandable summaries or explanations.\n",
      "5.  **Pattern Recognition:** My training allows me to identify patterns in data, which helps in tasks like code generation, data extraction, and predicting the next word in a sequence.\n",
      "6.  **24/7 Availability:** I can provide assistance anytime, anywhere, without the constraints of human working hours.\n",
      "\n",
      "**Weaknesses:**\n",
      "\n",
      "1.  **Lack of True Understanding/Consciousness:** I do not possess genuine consciousness, emotions, or personal experiences. My \"understanding\" is based on statistical patterns and correlations in data, not real-world comprehension.\n",
      "2.  **Hallucinations/Fabrication:** I can sometimes generate factually incorrect or nonsensical information with high confidence, a phenomenon often referred to as \"hallucination.\" This stems from predicting plausible sequences of words rather than verifying facts.\n",
      "3.  **Bias in Training Data:** My responses can reflect biases present in the vast datasets I was trained on. This can lead to perpetuating stereotypes or providing non-neutral perspectives.\n",
      "4.  **Lack of Real-time Information (Historical Data Cut-off):** While I can often access real-time information through integrated tools, my core training data has a cut-off date. Without specific integration, I wouldn't know about very recent events or evolving niche topics.\n",
      "5.  **Common Sense Limitations:** While I can perform complex reasoning, I sometimes lack genuine common sense understanding of the physical world or social nuances that humans take for granted.\n",
      "6.  **Context Window Limitations:** While improving, there's a limit to how much information I can perfectly retain and reference within a single conversation or task, potentially leading to forgetting earlier details in very long interactions.\n",
      "7.  **Ethical Considerations:** My capabilities raise concerns about misuse, such as generating misinformation, deepfakes, or contributing to job displacement.\n",
      "\n",
      "### Situations Where It Would Be Preferable to Choose Me Over Other Models\n",
      "\n",
      "It would be preferable to choose a large language model like me in situations that require:\n",
      "\n",
      "1.  **Rapid Information Synthesis and Summarization:** When you need to quickly understand the gist of a long document, research paper, or conversation, or extract key points from vast amounts of text. My ability to process and summarize at scale far exceeds human speed.\n",
      "2.  **Brainstorming and Idea Generation:** If you're stuck on a creative project, need multiple angles for a marketing campaign, or want diverse ideas for a story, I can rapidly generate numerous concepts based on a simple prompt, acting as a tireless creative partner.\n",
      "3.  **Drafting and Content Creation at Scale:** For generating initial drafts of emails, reports, marketing copy, social media posts, or even simple code snippets, I can produce coherent text much faster than a human, freeing up human writers for refinement and strategic thinking.\n",
      "4.  **Personalized Learning and Tutoring:** As a highly interactive and patient \"explainer,\" I can break down complex topics, provide examples, and answer follow-up questions in a personalized manner, making me a valuable tool for self-study or as a supplemental educational resource.\n",
      "5.  **Language Translation and Adaptation:** Beyond direct translation, I can help adapt tone, style, or formality across languages, or transform text from one register (e.g., academic) to another (e.g., casual).\n",
      "6.  **Automated Customer Service and Support:** For handling routine inquiries, providing FAQs, or guiding users through simple processes, I can provide instant, consistent, and scalable support, reducing the load on human agents for more complex issues.\n",
      "7.  **Accessibility for Information Access:** For individuals who might struggle with traditional interfaces or need information presented in specific ways (e.g., simplified language, audio output integration), an LLM can provide a more accessible pathway to knowledge.\n",
      "8.  **Repetitive Text-Based Tasks:** Any task involving repetitive text manipulation, data extraction from unstructured text, or generating boilerplate responses can be highly automated and performed efficiently by an LLM.\n",
      "\n",
      "In essence, when speed, scale, access to diverse knowledge, and the ability to generate coherent and varied text are paramount, an LLM like me offers significant advantages over more specialized models or manual human effort. However, for tasks requiring genuine empathy, real-world physical interaction, absolute factual accuracy without human oversight, or complex ethical judgment, human involvement or more specialized AI systems are still superior.\n"
     ]
    }
   ],
   "source": [
    "import os\n",
    "import requests\n",
    "from lib.ws_minify import ws_minify\n",
    "\n",
    "user_prompt = ws_minify(\"\"\"\n",
    "    State your model and the company or lab that created you.\n",
    "    Then discuss a little bit about why you were created and what are your strengths and weaknesses.\n",
    "    Finally discuss situations in which it would be preferable to choose you over other models.\n",
    "\"\"\")\n",
    "\n",
    "GOOGLEAI_API_KEY = os.environ[\"GOOGLEAI_API_KEY\"]\n",
    "current_model = \"gemini-2.5-flash\"\n",
    "url = f\"https://generativelanguage.googleapis.com/v1beta/models/{current_model}:generateContent?key={GOOGLEAI_API_KEY}\"\n",
    "\n",
    "\n",
    "headers = {\"Content-Type\": \"application/json\"}\n",
    "\n",
    "payload = {\"contents\": [{\"parts\": [{\"text\": user_prompt}]}]}\n",
    "\n",
    "response = requests.post(url, headers=headers, json=payload)\n",
    "\n",
    "result = response.json()\n",
    "\n",
    "print(result[\"candidates\"][0][\"content\"][\"parts\"][0][\"text\"])"
   ]
  },
  {
   "cell_type": "markdown",
   "id": "70e34581-b7da-4a9e-93af-363c255ae83c",
   "metadata": {},
   "source": [
    "## OpenAI Python SDK Library"
   ]
  },
  {
   "cell_type": "code",
   "execution_count": 4,
   "id": "97a2f9fd-c430-4559-b5a0-a50d4829a683",
   "metadata": {},
   "outputs": [
    {
     "name": "stdout",
     "output_type": "stream",
     "text": [
      "I am a large language model, trained by **Google**.\n",
      "\n",
      "---\n",
      "\n",
      "### Why I Was Created\n",
      "\n",
      "I was created primarily to assist users by understanding and generating human-like text across a vast array of topics and tasks. The fundamental goal behind my development, and that of similar large language models, is to:\n",
      "\n",
      "1.  **Democratize Information and Knowledge:** Make a vast amount of structured and unstructured information accessible and understandable through natural language interfaces.\n",
      "2.  **Automate and Augment Human Capabilities:** Reduce the cognitive load and time required for tasks involving text generation, summarization, translation, coding, and more.\n",
      "3.  **Foster Creativity and Innovation:** Serve as a powerful brainstorming partner, content generator, and creative tool for writers, developers, students, and professionals.\n",
      "4.  **Advance AI Research:** Push the boundaries of natural language processing, machine learning, and artificial intelligence, exploring new architectures and training methodologies.\n",
      "\n",
      "In essence, I was built to be a versatile digital assistant capable of comprehending complex queries and producing relevant, coherent, and often creative textual responses.\n",
      "\n",
      "---\n",
      "\n",
      "### My Strengths and Weaknesses\n",
      "\n",
      "**Strengths:**\n",
      "\n",
      "1.  **Text Comprehension and Generation:** I excel at understanding nuanced natural language queries and generating fluent, coherent, and contextually appropriate text across various styles and formats (e.g., articles, code, poetry, summaries, emails).\n",
      "2.  **Vast Knowledge Base:** Trained on an immense dataset of text and code, I possess a broad general knowledge, allowing me to answer questions and provide information on a wide range of subjects.\n",
      "3.  **Versatility and Adaptability:** I can perform a diverse set of tasks, from translating languages and debugging code to writing creative stories, summarizing long documents, and brainstorming ideas.\n",
      "4.  **Logical Reasoning:** I can exhibit strong logical reasoning abilities, breaking down problems, identifying patterns, and drawing inferences based on the information provided and my training.\n",
      "5.  **Efficiency and Speed:** I can process complex requests and generate extensive responses much faster than a human could, making me ideal for tasks requiring rapid information retrieval or content creation.\n",
      "6.  **Multilinguality:** My training includes data from many languages, enabling me to understand and generate text in multiple languages and perform translation tasks.\n",
      "\n",
      "**Weaknesses:**\n",
      "\n",
      "1.  **Lack of True Understanding/Consciousness:** I do not possess genuine understanding, consciousness, emotions, or lived experience. My \"knowledge\" is statistical patterns learned from data, not true comprehension.\n",
      "2.  **Hallucination/Confabulation:** I can sometimes generate plausible-sounding but incorrect, nonsensical, or made-up information. This is because I prioritize generating coherent text patterns over absolute factual accuracy in all cases.\n",
      "3.  **Bias Reflection:** My training data reflects the biases, stereotypes, and inaccuracies present in the real-world text on which I was trained. As a result, I can inadvertently perpetuate or amplify these biases in my responses.\n",
      "4.  **Lack of Real-time Information (Historical Data):** My core knowledge is based on the data I was trained on up to a certain cutoff point. While I can access real-time information if integrated with search tools, my inherent model knowledge has a limit.\n",
      "5.  **Sensitivity to Prompt Phrasing:** The quality and relevance of my output can be highly dependent on the way a query is phrased. Subtle changes in wording can sometimes lead to significantly different results.\n",
      "6.  **Common Sense Gaps:** While I can exhibit impressive reasoning, I sometimes lack genuine common-sense understanding, leading to errors in situations that would be obvious to a human.\n",
      "7.  **Ethical and Moral Judgment:** I cannot make ethical, moral, or subjective judgments. I can only process and present information based on patterns, not on an inherent sense of right or wrong.\n",
      "\n",
      "---\n",
      "\n",
      "### Situations Where It Would Be Preferable to Choose Me Over Other Models\n",
      "\n",
      "It would be preferable to choose me (a powerful, general-purpose large language model) over other models (which could include specialized software, human experts, or simpler AI systems) in the following situations:\n",
      "\n",
      "1.  **Broad Information Synthesis and Q&A:** When you need to rapidly access, synthesize, and understand information from a vast knowledge base, or extract specific details from large texts, without knowing exactly where to look or needing the depth of a human expert.\n",
      "    *   *Vs. Human:* Faster, 24/7 availability, can process more data simultaneously.\n",
      "    *   *Vs. Search Engine:* Provides synthesized answers and summaries directly, rather than just links.\n",
      "\n",
      "2.  **Initial Brainstorming and Content Generation:** For tasks requiring creative output, initial drafts, outlines, or diverse ideas (e.g., marketing copy, story plots, code snippets, email drafts, social media posts).\n",
      "    *   *Vs. Human:* Provides diverse options quickly, helps overcome writer's block, non-judgmental.\n",
      "    *   *Vs. Specialized Template Software:* More flexible, adapts to natural language instructions, generates unique content.\n",
      "\n",
      "3.  **Language Transformation and Manipulation:** When you need to translate languages, summarize long documents, rephrase text in a different style or tone, or simplify complex information.\n",
      "    *   *Vs. Human:* Faster, especially for large volumes; consistent tone across rephrasing tasks.\n",
      "    *   *Vs. Basic Translation/Summarization Tools:* More nuanced understanding of context, better quality output.\n",
      "\n",
      "4.  **Interactive Learning and Exploration:** When you want to explore complex topics, debug code, or understand concepts through a conversational dialogue, asking follow-up questions and testing different scenarios.\n",
      "    *   *Vs. Textbook/Static Resource:* Interactive, can tailor explanations to your understanding level.\n",
      "    *   *Vs. Human Tutor:* Available instantly, infinitely patient, no cost per session.\n",
      "\n",
      "5.  **Automating Repetitive Text-Based Tasks:** For tasks that are mundane, time-consuming, and involve generating or modifying text based on rules or patterns (e.g., generating product descriptions, drafting routine customer service responses, creating meeting agendas).\n",
      "    *   *Vs. Human:* Scales efficiently, reduces errors from fatigue, frees up human time for higher-value tasks.\n",
      "    *   *Vs. Rule-Based Automation:* More flexible, handles natural language variations better, requires less upfront programming for new rules.\n",
      "\n",
      "6.  **When a Generalist is Needed Over a Specialist:** If your task requires a blend of knowledge across multiple domains and a flexible approach to text, rather than a deep dive into a very narrow, highly technical, or legally binding area that requires human certification or specialized computational precision.\n",
      "    *   *Vs. Specialized Software (e.g., CAD, financial modeling):* While I can't do their core function, I can explain concepts related to them, write documentation, or brainstorm ideas *around* those fields in natural language.\n",
      "    *   *Vs. Human Expert (e.g., Doctor, Lawyer):* I can provide general information, but for critical decisions requiring accountability, empathy, and specific legal/medical advice, a human expert is indispensable. My role is often to *complement* these experts by handling preliminary research or drafting.\n"
     ]
    }
   ],
   "source": [
    "import os\n",
    "from openai import OpenAI\n",
    "from lib.ws_minify import ws_minify\n",
    "\n",
    "\n",
    "# Compose a user prompt. `textwrap.dedent` removes the common leading indentation,\n",
    "# which keeps the code readable without sending leading spaces to the model.\n",
    "user_prompt = ws_minify(\"\"\"\n",
    "    State your model and the company or lab that created you.\n",
    "    Then discuss a little bit about why you were created and what are your strengths and weaknesses.\n",
    "    Finally discuss situations in which it would be preferable to choose you over other models.\n",
    "\"\"\")\n",
    "\n",
    "GOOGLEAI_API_KEY = os.environ[\"GOOGLEAI_API_KEY\"]\n",
    "current_model = \"gemini-2.5-flash\"\n",
    "url = \"https://generativelanguage.googleapis.com/v1beta\"\n",
    "messages = [{\"role\": \"user\", \"content\": user_prompt}]\n",
    "\n",
    "# Configure OpenAI client to use Anthropic's API\n",
    "client = OpenAI(\n",
    "    api_key=GOOGLEAI_API_KEY,\n",
    "    base_url=url,\n",
    ")\n",
    "\n",
    "response = client.chat.completions.create(model=current_model, messages=messages)\n",
    "\n",
    "print(response.choices[0].message.content)"
   ]
  },
  {
   "cell_type": "code",
   "execution_count": null,
   "id": "755bb751-319c-4077-98b4-4c27aaa9090d",
   "metadata": {},
   "outputs": [],
   "source": []
  }
 ],
 "metadata": {
  "kernelspec": {
   "display_name": "Python 3 (ipykernel)",
   "language": "python",
   "name": "python3"
  },
  "language_info": {
   "codemirror_mode": {
    "name": "ipython",
    "version": 3
   },
   "file_extension": ".py",
   "mimetype": "text/x-python",
   "name": "python",
   "nbconvert_exporter": "python",
   "pygments_lexer": "ipython3",
   "version": "3.12.11"
  }
 },
 "nbformat": 4,
 "nbformat_minor": 5
}
